{
 "cells": [
  {
   "cell_type": "markdown",
   "id": "5acd391701cc4598",
   "metadata": {
    "collapsed": false
   },
   "source": [
    "## Deps"
   ]
  },
  {
   "cell_type": "code",
   "execution_count": null,
   "id": "initial_id",
   "metadata": {
    "collapsed": true,
    "is_executing": true
   },
   "outputs": [
    {
     "ename": "",
     "evalue": "",
     "output_type": "error",
     "traceback": [
      "\u001b[1;31mRunning cells with '/usr/bin/python3' requires the ipykernel package.\n",
      "\u001b[1;31mRun the following command to install 'ipykernel' into the Python environment. \n",
      "\u001b[1;31mCommand: '/usr/bin/python3 -m pip install ipykernel -U --user --force-reinstall'"
     ]
    }
   ],
   "source": [
    "from qiskit import QuantumCircuit, Aer, transpile\n",
    "from qiskit.visualization import plot_histogram"
   ]
  },
  {
   "cell_type": "markdown",
   "id": "4f1066a8f848ecf5",
   "metadata": {
    "collapsed": false
   },
   "source": [
    "## 3 Qbits with 2 hadamard doors"
   ]
  },
  {
   "cell_type": "code",
   "execution_count": null,
   "id": "4887bd665e341153",
   "metadata": {
    "collapsed": false,
    "is_executing": true
   },
   "outputs": [],
   "source": [
    "circuit = QuantumCircuit(3)\n",
    "circuit.h(0)\n",
    "circuit.h(2)\n",
    "circuit.draw(output='mpl')"
   ]
  },
  {
   "cell_type": "markdown",
   "id": "eed74ec7dd9a3cd0",
   "metadata": {
    "collapsed": false
   },
   "source": [
    "## Introducing riddle logic"
   ]
  },
  {
   "cell_type": "code",
   "execution_count": null,
   "id": "8abccbe28ee744f6",
   "metadata": {
    "collapsed": false
   },
   "outputs": [],
   "source": [
    "circuit.cx(0, 1)\n",
    "circuit.cx(2, 1)\n",
    "circuit.x(2)\n",
    "circuit.cx(2, 0)\n",
    "circuit.x(2)\n",
    "circuit.barrier(0, 1, 2)\n",
    "circuit.swap(0, 1)\n",
    "circuit.x(1)\n",
    "circuit.x(0)\n",
    "circuit.cx(2, 1)\n",
    "circuit.x(2)\n",
    "circuit.cx(2, 0)\n",
    "circuit.x(2)\n",
    "circuit.draw(output='mpl')"
   ]
  },
  {
   "cell_type": "markdown",
   "id": "e8f5976b8a238bf0",
   "metadata": {
    "collapsed": false
   },
   "source": [
    "## Adding measurements"
   ]
  },
  {
   "cell_type": "code",
   "execution_count": null,
   "id": "e7ac27cbb8c9c79f",
   "metadata": {
    "collapsed": false
   },
   "outputs": [],
   "source": [
    "measurements = circuit.measure_all()\n",
    "back = Aer.get_backend('qasm_simulator')\n",
    "result = back.run(transpile(measurements, back), shots=1024).result()\n",
    "counts = result.get_counts(measurements)\n",
    "plot_histogram(counts)"
   ]
  },
  {
   "cell_type": "markdown",
   "id": "6927939ad578710e",
   "metadata": {
    "collapsed": false
   },
   "source": [
    "## Final circuit"
   ]
  },
  {
   "cell_type": "code",
   "execution_count": null,
   "id": "f40b9b2ca3866b38",
   "metadata": {
    "collapsed": false
   },
   "outputs": [],
   "source": [
    "circuit.draw(output='mpl', style='iqp')"
   ]
  }
 ],
 "metadata": {
  "kernelspec": {
   "display_name": "Python 3",
   "language": "python",
   "name": "python3"
  },
  "language_info": {
   "codemirror_mode": {
    "name": "ipython",
    "version": 2
   },
   "file_extension": ".py",
   "mimetype": "text/x-python",
   "name": "python",
   "nbconvert_exporter": "python",
   "pygments_lexer": "ipython2",
   "version": "3.11.2"
  }
 },
 "nbformat": 4,
 "nbformat_minor": 5
}
